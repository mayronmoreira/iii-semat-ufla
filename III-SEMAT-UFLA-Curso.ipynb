{
 "cells": [
  {
   "cell_type": "markdown",
   "metadata": {},
   "source": [
    "# Um modelo matemático para otimizar a sua vida na universidade\n",
    "\n",
    "## Prof. Mayron César O. Moreira \n",
    "\n",
    "**Universidade Federal de Lavras (UFLA)**  \n",
    "**Departamento de Ciência da Computação**  \n",
    "**Lavras, Minas Gerais, Brasil**  \n",
    "\n",
    "*III Semana da Matemática da UFLA (III SEMAT/UFLA)*  \n",
    "*Lavras, MG, Brasil*"
   ]
  },
  {
   "cell_type": "markdown",
   "metadata": {},
   "source": [
    "## Descrição do Problema\n",
    "\n",
    "A vida acadêmica de um estudante é repleta de atividades. Disciplinas, grupos de estudo, iniciação científica, estágio, e por último (mas não menos importante), atividades que envolvam esportes e lazer. Mas como se programar para realizar tantas tarefas, mantendo uma boa qualidade de vida? Nesse curso, desenvolveremos um modelo matemático que servirá como uma boa ferramenta para auxiliar na otimização de seu tempo e de sua vida universitária!"
   ]
  },
  {
   "cell_type": "markdown",
   "metadata": {},
   "source": [
    "### Tabela de Horários\n",
    "\n",
    "Complete sua tabela de horários com as atividades fixas de sua semana. Os arquivos se chamam **\"horarios.txt\"**, **carga.txt** e **dias-atividade.txt**, e estão no diretório do *notebook* desse curso. Alguns exemplos: $(i)$ os horários de suas disciplinas presenciais; $(ii)$ horários de atividades esportivas ou de recreação (natação, futebol, dança de salão, etc); $(iii)$ reuniões de grupos de estudo. Assim, conseguiremos preencher os parâmetros do modelo matemático. Para padronizar os dados de entrada, insira a o símbolo **D-** antes de todas as disciplinas. Exemplo: **D-GCC218**, ou **D-01**.  "
   ]
  },
  {
   "cell_type": "code",
   "execution_count": 39,
   "metadata": {},
   "outputs": [],
   "source": [
    "dados1 = [linha.strip() for linha in open(\"horario.txt\")]\n",
    "dados1  = [l.split(' ') for l in dados1]\n",
    "\n",
    "dados2 = [linha.strip() for linha in open(\"carga.txt\")]\n",
    "dados2 = [l.split(' ') for l in dados2]\n",
    "\n",
    "dados3 = [linha.strip() for linha in open(\"dias-atividade.txt\")]\n",
    "dados3  = [l.split(' ') for l in dados3]"
   ]
  },
  {
   "cell_type": "markdown",
   "metadata": {},
   "source": [
    "### Contexto modelado\n",
    "\n",
    "Nosso planejamento leva em conta os sete dias da semana, representados pelo conjunto $T$. Vamos considerar um conjunto de atividades $A$, divididos em um conjunto de disciplinas $D$ e um conjunto de atividades extras $E$ ($A = D \\cup E$ e $D \\cap E = \\varnothing$). Os dias correspondentes a cada atividade é determinado pelo conjunto $T_a \\subseteq T, a \\in A$. Além disso, a carga horária semanal de $a \\in A$ é dada por $w_a \\in \\mathbb{R}_+$. **Lembre-se:** a carga horária de uma disciplina $d \\in D$ corresponde às horas dentro e fora de sala de aula. Utilizamos também um conjunto de *slots* de tempo $S = \\{7, 8, ..., 22\\}$. Desejamos determinar um plano de atividades semanais tal que:  \n",
    "\n",
    "* **Restrição 1**: as atividades pré-fixadas devem ter seus horários respeitados;  \n",
    "* **Restrição 2**: cada horário (*slot*) deve ser ocupado por uma atividade (garante que não haja sobreposição de horários);  \n",
    "* **Restrição 3**: a carga horária das atividades deve ser cumprida;  \n",
    "* **Restrição 4**: os sábados à partir das 18h devem ser dedicados ao **lazer**;    \n",
    "* **Restrição 5**: de segunda à sexta, estabelecemos que hajam no máximo 2h de dedicação ao esporte por dia;  \n",
    "* **Restrição 6**: as atividades de esporte deverão ser finalizadas até às 11h, de segunda à sexta;  \n",
    "\n",
    "O objetivo de nosso modelo é obedecer todas as restrições e especificidades de nosso contexto, **maximizando** a carga horária de atividades de lazer! =)"
   ]
  },
  {
   "cell_type": "markdown",
   "metadata": {},
   "source": [
    "### Parâmatros (*inputs*)\n",
    "\n",
    "Façamos um resumo dos parâmetros necessários ao nosso modelo.  \n",
    "\n",
    "* $D$: conjunto de disciplinas;  \n",
    "* $E$: conjunto de atividades extras; \n",
    "* $A = D \\cup E$: conjunto de atividades;  \n",
    "* $\\tilde{A}$: conjunto de triplas $(\\overline{a},\\overline{t},\\overline{s})$ que correspondem a designações de atividades, hora e dia já pré-determinados;  \n",
    "* $T$: dias da semana;  \n",
    "* $S$: *slots* de tempo;  \n",
    "* $T_a$: dias em que a atividade $a \\in A$ deve ser realizada;  \n",
    "* $w_a$: carga horária da atividade $a \\in A$.  \n",
    "\n",
    "Em Python, a implementação desses dados é apresentada abaixo, utilizando as informações preenchidas pela planilha "
   ]
  },
  {
   "cell_type": "code",
   "execution_count": 40,
   "metadata": {},
   "outputs": [
    {
     "name": "stdout",
     "output_type": "stream",
     "text": [
      "D:  ['D-01', 'D-02', 'D-03', 'D-04', 'D-05', 'D-06']\n",
      "E:  ['IC', 'Esporte', 'Lazer']\n",
      "A:  ['D-01', 'D-02', 'D-03', 'D-04', 'D-05', 'D-06', 'IC', 'Esporte', 'Lazer', 'Alimentacao']\n",
      "T:  ['Seg', 'Ter', 'Qua', 'Qui', 'Sex', 'Sab', 'Dom']\n",
      "S:  [7, 8, 9, 10, 11, 12, 13, 14, 15, 16, 17, 18, 19, 20, 21, 22]\n",
      "w:  {'D-01': 8, 'D-02': 8, 'D-03': 8, 'D-04': 8, 'D-05': 8, 'D-06': 8, 'IC': 12, 'Esporte': 10}\n",
      "ativDiaHora:  {'D-01': [('Seg', 19), ('Seg', 20), ('Qua', 21), ('Qua', 22)], 'D-02': [('Seg', 21), ('Seg', 22), ('Qui', 19), ('Qui', 20)], 'D-03': [('Ter', 19), ('Ter', 20), ('Qui', 21), ('Qui', 22)], 'D-04': [('Ter', 21), ('Ter', 22), ('Sex', 19), ('Sex', 20)], 'D-05': [('Qua', 19), ('Qua', 20), ('Sex', 21), ('Sex', 22)], 'D-06': [('Ter', 16), ('Ter', 17), ('Sex', 16), ('Sex', 17)], 'IC': [], 'Esporte': [('Seg', 8), ('Seg', 9), ('Qua', 8), ('Qua', 9), ('Sex', 8), ('Sex', 9)], 'Lazer': [], 'Alimentacao': []}\n",
      "ativDia:  {'D-01': ['Seg', 'Qua'], 'D-02': ['Seg', 'Qui'], 'D-03': ['Ter', 'Qui'], 'D-04': ['Ter', 'Sex'], 'D-05': ['Qua', 'Sex'], 'D-06': ['Ter', 'Sex'], 'IC': [], 'Esporte': ['Seg', 'Qua', 'Sex'], 'Lazer': [], 'Alimentacao': []}\n",
      "diaAtivHora:  {'Seg': [('Esporte', 8), ('Esporte', 9), ('D-01', 19), ('D-01', 20), ('D-02', 21), ('D-02', 22)], 'Ter': [('D-06', 16), ('D-06', 17), ('D-03', 19), ('D-03', 20), ('D-04', 21), ('D-04', 22)], 'Qua': [('Esporte', 8), ('Esporte', 9), ('D-05', 19), ('D-05', 20), ('D-01', 21), ('D-01', 22)], 'Qui': [('D-02', 19), ('D-02', 20), ('D-03', 21), ('D-03', 22)], 'Sex': [('Esporte', 8), ('Esporte', 9), ('D-06', 16), ('D-06', 17), ('D-04', 19), ('D-04', 20), ('D-05', 21), ('D-05', 22)], 'Sab': [], 'Dom': []}\n",
      "alimentacao:  [('Seg', 12), ('Seg', 18), ('Ter', 12), ('Ter', 18), ('Qua', 12), ('Qua', 18), ('Qui', 12), ('Qui', 18), ('Sex', 12), ('Sex', 18), ('Sab', 12), ('Sab', 13), ('Dom', 12), ('Dom', 13)]\n",
      "Ta:  {'D-01': ['Seg', 'Ter', 'Qua', 'Qui', 'Sex'], 'D-02': ['Seg', 'Ter', 'Qua', 'Qui', 'Sex'], 'D-03': ['Seg', 'Ter', 'Qua', 'Qui', 'Sex'], 'D-04': ['Seg', 'Ter', 'Qua', 'Qui', 'Sex'], 'D-05': ['Seg', 'Ter', 'Qua', 'Qui', 'Sex'], 'D-06': ['Seg', 'Ter', 'Qua', 'Qui', 'Sex'], 'IC': ['Seg', 'Ter', 'Qua', 'Qui', 'Sex', 'Sab'], 'Esporte': ['Seg', 'Ter', 'Qua', 'Qui', 'Sex', 'Sab'], 'Lazer': [], 'Alimentacao': []}\n"
     ]
    }
   ],
   "source": [
    "D = [x[0] for x in dados2 if 'D-' in x[0]]\n",
    "E = [x[0] for x in dados2 if 'D-' not in x[0]]\n",
    "E = E + ['Lazer'] # Acrescentando a atividade Lazer\n",
    "A = D + E + ['Alimentacao']\n",
    "T = [x[0] for x in dados1]\n",
    "S = [s for s in range(7,23)]\n",
    "\n",
    "# Criando um dicionário de atividade:carga horária\n",
    "w = { x[0]:int(x[1]) for x in dados2 }\n",
    "\n",
    "# Criando a lista de dias fixos para cada atividades\n",
    "linhaDias = T\n",
    "ativDiaHora = { a:[] for a in A } # Conjunto \\tilde{A}\n",
    "ativDia = { a:[] for a in A }\n",
    "diaAtivHora = { d:[] for d in T}\n",
    "alimentacao = [] # Conjunto de dias e horários que iremos nos alimentar (pausa)\n",
    "\n",
    "for t in range(len(dados1)):\n",
    "    for i in range(1,len(dados1[t])):\n",
    "        aux = dados1[t][i].split(\",\")\n",
    "        for a in A:\n",
    "            if(aux[1] == a):\n",
    "                ativDiaHora[a].append((T[t],int(aux[0])))\n",
    "                if(T[t] not in ativDia[a]):\n",
    "                    ativDia[a].append(T[t])\n",
    "\n",
    "                diaAtivHora[T[t]].append((a,int(aux[0])))\n",
    "\n",
    "            elif((aux[1] == 'Almoco' or aux[1] == 'Janta') and ((T[t],int(aux[0])) not in alimentacao)):\n",
    "                alimentacao.append((T[t], int(aux[0])))\n",
    "\n",
    "# Calculando as possibilidades de dias para cada atividade\n",
    "Ta = { a:[] for a in A }\n",
    "for i in range(1,len(dados3)):\n",
    "    for j in range(1,len(dados3[i])):\n",
    "        if(dados3[i][j] in T):\n",
    "            Ta[dados3[i][0]].append(dados3[i][j])\n",
    "\n",
    "print(\"D: \", D)\n",
    "print(\"E: \", E)\n",
    "print(\"A: \", A)\n",
    "print(\"T: \", T)\n",
    "print(\"S: \", S)\n",
    "print(\"w: \", w)\n",
    "print(\"ativDiaHora: \", ativDiaHora)\n",
    "print(\"ativDia: \", ativDia)\n",
    "print(\"diaAtivHora: \", diaAtivHora)\n",
    "print(\"alimentacao: \", alimentacao)\n",
    "print(\"Ta: \", Ta)"
   ]
  },
  {
   "cell_type": "markdown",
   "metadata": {},
   "source": [
    "### Modelo Matemático\n",
    "\n",
    "Para modelar nosso problema matematicamente, utilizaremos a biblioteca PuLP do Python 3, declarada na sequência."
   ]
  },
  {
   "cell_type": "code",
   "execution_count": 41,
   "metadata": {},
   "outputs": [],
   "source": [
    "from pulp import *"
   ]
  },
  {
   "cell_type": "markdown",
   "metadata": {},
   "source": [
    "#### Variáveis de decisão\n",
    "\n",
    "Vamos definir o conjunto de variáveis binárias $x_{ast} \\in \\{0,1\\}$ igual a 1 se e somente a atividade $a \\in A$ for alocada no slot de tempo $s \\in S$, no dia $t \\in T$."
   ]
  },
  {
   "cell_type": "code",
   "execution_count": 42,
   "metadata": {},
   "outputs": [],
   "source": [
    "x = LpVariable.dicts(\"x\", (A, S, T), cat='Binary')"
   ]
  },
  {
   "cell_type": "markdown",
   "metadata": {},
   "source": [
    "#### Modelo matemático\n",
    "\n",
    "Criando o modelo de **maximização**."
   ]
  },
  {
   "cell_type": "code",
   "execution_count": 43,
   "metadata": {},
   "outputs": [],
   "source": [
    "modelo = pulp.LpProblem(\"Otimização de horários\", pulp.LpMaximize)"
   ]
  },
  {
   "cell_type": "markdown",
   "metadata": {},
   "source": [
    "#### Função objetivo\n",
    "\n",
    "Como cada *slot* de tempo é discretizado de hora em hora, nossa função objetivo consiste em maximizar a quantidade de horas que a variável $x$ relativa ao *lazer* aparece.\n",
    "\n",
    "\\begin{equation}\n",
    "\\max \\sum_{s \\in S}\\sum_{t \\in T}x_{\\overline{a}st}\n",
    "\\end{equation}\n",
    "\n",
    "em que $\\overline{a}$ = Lazer."
   ]
  },
  {
   "cell_type": "code",
   "execution_count": 44,
   "metadata": {},
   "outputs": [],
   "source": [
    "modelo += sum([x['Lazer'][s][t] for s in S for t in T])"
   ]
  },
  {
   "cell_type": "markdown",
   "metadata": {},
   "source": [
    "#### Restrições 1: fixação de atividades definidas *a priori*\n",
    "\n",
    "Seja a tripla $(\\overline{a}, \\overline{s}, \\overline{t}) \\in \\tilde{A}$ como uma tripla de atividade, horário e dia de uma atividade fixa pertencentes a um conjunto de designações feitas *a priori*. Assim, nossa restrição pode ser escrita da seguinte forma: \n",
    "\n",
    "\\begin{equation}\n",
    "x_{\\overline{a}\\,\\overline{s}\\,\\overline{t}} = 1, \\forall (\\overline{a},\\overline{s},\\overline{t}) \\in \\tilde{A}\n",
    "\\end{equation}"
   ]
  },
  {
   "cell_type": "code",
   "execution_count": 45,
   "metadata": {},
   "outputs": [],
   "source": [
    "for a in A:\n",
    "    for (t, s) in ativDiaHora[a]:\n",
    "        modelo += x[a][s][t] == 1\n",
    "        \n",
    "for a in alimentacao:\n",
    "    modelo += x['Alimentacao'][a[1]][a[0]] == 1"
   ]
  },
  {
   "cell_type": "markdown",
   "metadata": {},
   "source": [
    "#### Restrições 2: cada *slot* de tempo deve ser ocupado por alguma atividade\n",
    "\n",
    "\\begin{equation}\n",
    "\\sum_{a \\in A} x_{ast} = 1, \\forall s \\in S, \\forall t \\in T\n",
    "\\end{equation}"
   ]
  },
  {
   "cell_type": "code",
   "execution_count": 46,
   "metadata": {},
   "outputs": [],
   "source": [
    "for s in S:\n",
    "    for t in T:\n",
    "        modelo += sum([x[a][s][t] for a in A]) == 1"
   ]
  },
  {
   "cell_type": "markdown",
   "metadata": {},
   "source": [
    "#### Restrições 3: a carga horária de todas as atividades deve ser cumprida (a exceção do 'Lazer', que deve ser maximizado)\n",
    "\n",
    "\\begin{equation}\n",
    "\\sum_{s \\in S}\\sum_{t \\in T_a} x_{ast} = w_a, \\forall a \\in A \\backslash \\{\\mbox{'Lazer'}\\}\n",
    "\\end{equation}"
   ]
  },
  {
   "cell_type": "code",
   "execution_count": 47,
   "metadata": {},
   "outputs": [],
   "source": [
    "for a in A:\n",
    "    if(a != 'Lazer' and a != 'Alimentacao'):\n",
    "        modelo += sum([x[a][s][t] for s in S for t in Ta[a]]) == w[a]"
   ]
  },
  {
   "cell_type": "markdown",
   "metadata": {},
   "source": [
    "#### Restrições 4: os sábados à partir das 18h devem ser dedicados ao **lazer**\n",
    "\n",
    "\\begin{equation}\n",
    "x_{\\tilde{a}s\\tilde{t}} = 1, \\forall s \\in S, s \\ge 18, \\tilde{a} = \\mbox{'Lazer'}, \\tilde{t} = \\mbox{'Sab'}\n",
    "\\end{equation}"
   ]
  },
  {
   "cell_type": "code",
   "execution_count": 48,
   "metadata": {},
   "outputs": [],
   "source": [
    "for s in S:\n",
    "    if(s >= 18 and s <= 22):\n",
    "        modelo += x['Lazer'][s]['Sab'] == 1"
   ]
  },
  {
   "cell_type": "markdown",
   "metadata": {},
   "source": [
    "#### Restrições 5: de segunda à sexta, estabelecemos que hajam no máximo 2h de dedicação ao esporte por dia. \n",
    "\n",
    "\\begin{equation}\n",
    "\\sum_{s \\in S}x_{\\mbox{'Esp'},s,t} \\le 2, \\forall t \\in T\\backslash\\{\\mbox{'Sab','Dom'}\\}\n",
    "\\end{equation}"
   ]
  },
  {
   "cell_type": "code",
   "execution_count": 49,
   "metadata": {},
   "outputs": [],
   "source": [
    "for t in T:\n",
    "    if(t != 'Sab' or t != 'Dom'):\n",
    "        modelo += sum(x['Esporte'][s][t] for s in S) <= 2"
   ]
  },
  {
   "cell_type": "markdown",
   "metadata": {},
   "source": [
    "#### Restrições 6: as atividades de esporte deverão ser finalizadas até às 11h, de segunda à sexta.\n",
    "\n",
    "\\begin{equation}\n",
    "\\sum_{s \\in S, s \\ge 11}\\sum_{t \\in T}x_{\\mbox{'Esp'},s,t} = 0\n",
    "\\end{equation}"
   ]
  },
  {
   "cell_type": "code",
   "execution_count": 50,
   "metadata": {},
   "outputs": [],
   "source": [
    "modelo += sum(x['Esporte'][s][t] for s in S for t in T if s >= 11 and (t != 'Sab' and t != 'Dom')) == 0"
   ]
  },
  {
   "cell_type": "markdown",
   "metadata": {},
   "source": [
    "#### Resolvendo o modelo"
   ]
  },
  {
   "cell_type": "code",
   "execution_count": 51,
   "metadata": {},
   "outputs": [
    {
     "data": {
      "text/plain": [
       "1"
      ]
     },
     "execution_count": 51,
     "metadata": {},
     "output_type": "execute_result"
    }
   ],
   "source": [
    "modelo.solve()"
   ]
  },
  {
   "cell_type": "markdown",
   "metadata": {},
   "source": [
    "#### Status da solução encontrada"
   ]
  },
  {
   "cell_type": "code",
   "execution_count": 52,
   "metadata": {},
   "outputs": [
    {
     "name": "stdout",
     "output_type": "stream",
     "text": [
      "Status da resolução do modelo: Optimal\n"
     ]
    }
   ],
   "source": [
    "print(\"Status da resolução do modelo:\", LpStatus[modelo.status])"
   ]
  },
  {
   "cell_type": "markdown",
   "metadata": {},
   "source": [
    "#### Total de horas de lazer"
   ]
  },
  {
   "cell_type": "code",
   "execution_count": 53,
   "metadata": {},
   "outputs": [
    {
     "name": "stdout",
     "output_type": "stream",
     "text": [
      "Horas de Lazer =  28.0\n"
     ]
    }
   ],
   "source": [
    "print(\"Horas de Lazer = \", value(modelo.objective))"
   ]
  },
  {
   "cell_type": "markdown",
   "metadata": {},
   "source": [
    "#### Gerando sua planilha de horários"
   ]
  },
  {
   "cell_type": "code",
   "execution_count": 54,
   "metadata": {},
   "outputs": [],
   "source": [
    "'''\n",
    "# Create a Pandas dataframe from some data.\n",
    "import pandas as pd\n",
    "Horarios = { (s,t):' ' for s in S for t in T }\n",
    "Horarios['7','Seg'] = 'D-01'\n",
    "\n",
    "for a in A:\n",
    "    for s in S:\n",
    "        for t in T:\n",
    "            if(value(x[a][s][t]) >= 0.9):\n",
    "                Horarios[s,t] = a\n",
    "\n",
    "dicionarioHoras = { 'Horarios': S }\n",
    "dicionarioHoras1 = { t:[Horarios[s,t] for s in S] for t in T }\n",
    "\n",
    "z = {**dicionarioHoras, **dicionarioHoras1}\n",
    "df = pd.DataFrame(z)\n",
    "\n",
    "# Create a Pandas Excel writer using XlsxWriter as the engine.\n",
    "writer = pd.ExcelWriter('Resultado1.xlsx', engine='xlsxwriter')\n",
    "\n",
    "# Convert the dataframe to an XlsxWriter Excel object.\n",
    "df.to_excel(writer, sheet_name='Horários', index=False)\n",
    "\n",
    "# Close the Pandas Excel writer and output the Excel file.\n",
    "writer.save()\n",
    "'''"
   ]
  },
  {
   "cell_type": "markdown",
   "metadata": {},
   "source": [
    "#### Gerando seus horários"
   ]
  },
  {
   "cell_type": "code",
   "execution_count": null,
   "metadata": {},
   "outputs": [],
   "source": [
    "Horarios = { (s,t):' ' for s in S for t in T }\n",
    "\n",
    "for a in A:\n",
    "    for s in S:\n",
    "        for t in T:\n",
    "            if(value(x[a][s][t]) >= 0.9):\n",
    "                Horarios[s,t] = a\n",
    "                \n",
    "writer = open(\"horario.txt\", \"w\")\n",
    "for s in S:\n",
    "    for t in T:\n",
    "        writer.wr"
   ]
  },
  {
   "cell_type": "markdown",
   "metadata": {},
   "source": [
    "### Novas restrições\n",
    "\n",
    "Vamos aprimorar a solução desse modelo matemático. Consideremos as seguintes restrições adicionais:\n",
    "\n",
    "* **Restrição 7**: as horas de estudo e de IC devem ser contínuas (sequenciais);  \n",
    "* **Restrição 8**: atividades esportivas não devem aparecer entre o estudo de disciplinas e entre IC;  \n",
    "* **Restrição 9**: ao menos 2h fora de sala de aula deve ser gasta antes de cada aula presencial da disciplina $d \\in D$."
   ]
  },
  {
   "cell_type": "markdown",
   "metadata": {},
   "source": [
    "#### Restrições 7: as horas de estudo e de IC devem ser contínuas (sequenciais)\n",
    "\n",
    "\\begin{equation}\n",
    "x_{ast} \\le x_{a,s-1,t} + x_{a,s+1,t}, \\forall a \\in D \\cup \\{\\mbox{'IC'}\\}, \\forall s \\in S\\backslash\\{\\mbox{'7','22'}\\}, \\forall t \\in T_a\n",
    "\\end{equation}\n",
    "\n",
    "\\begin{equation}\n",
    "x_{a,22,t} = x_{a,21,t}, \\forall a \\in D, \\forall t \\in T_a\n",
    "\\end{equation}\n",
    "\n",
    "\\begin{equation}\n",
    "x_{a,7,t} = x_{a,8,t}, \\forall a \\in D, \\forall t \\in T_a\n",
    "\\end{equation}"
   ]
  },
  {
   "cell_type": "code",
   "execution_count": 40,
   "metadata": {},
   "outputs": [],
   "source": []
  },
  {
   "cell_type": "markdown",
   "metadata": {},
   "source": [
    "#### Restrições 8: atividades esportivas não devem aparecer entre o estudo de disciplinas e entre IC\n",
    "\n",
    "\\begin{equation}\n",
    "x_{a,s-1,t} + x_{a',s+1,t} \\le 2 - x_{\\mbox{'Esp'},s,t}, \\forall a,a' \\in D\\cup\\{\\mbox{'IC'}\\}, \\forall s \\in S\\backslash\\{7,22\\}, \\forall t \\in T\n",
    "\\end{equation}"
   ]
  },
  {
   "cell_type": "code",
   "execution_count": null,
   "metadata": {},
   "outputs": [],
   "source": []
  },
  {
   "cell_type": "markdown",
   "metadata": {},
   "source": [
    "#### Restrições 9: ao menos 1h fora de sala de aula deve ser gasta antes de cada aula presencial da disciplina $d \\in D$. \n",
    "\n",
    "Seja $\\tilde{T}^a_{t_1,t_2}$ o conjunto de dias entre os dias $t_1$ e $t_2$ que atividade $a \\in A$ pode ocorrer. Considere $preT(\\overline{a})$ como o dia anterior ao que $\\overline{a}$ é realizado, e $preS(\\overline{a})$ como a hora que executamos a atividade $a$ em um dia anterior ao que $\\overline{a}$ ocorre. Implementamos a definição desses conjuntos abaixo."
   ]
  },
  {
   "cell_type": "code",
   "execution_count": 43,
   "metadata": {},
   "outputs": [],
   "source": [
    "# Definição de $\\tilde{T}^a_{t_1,t_2}$\n",
    "def diasAtividadeIntervalo(a, t1, t2):\n",
    "    i = T.index(t1)\n",
    "    j = T.index(t2)\n",
    "    Dias = []\n",
    "    if(i <= j):\n",
    "        Dias = T[(i+1):j]\n",
    "    else:\n",
    "        Dias = [t for t in T if not (j <= T.index(t) and T.index(t) <= i)]\n",
    "\n",
    "    return [t for t in Dias if t in Ta[a]]\n",
    "    \n",
    "# Define o dia em que a atividade 'a' é executada antes do dia t\n",
    "def preT(a, t):\n",
    "    # Dia anterior a t\n",
    "    if(ativDia[a].index(t) > 0):\n",
    "        return ativDia[a][(ativDia[a].index(t) - 1)]\n",
    "    else:\n",
    "        return ativDia[a][(len(ativDia[a]) - 1)]\n",
    "    \n",
    "# Define o slot em que a atividade 'a' é executada antes do dia t\n",
    "def preS(a, t):\n",
    "    # Dia anterior a t\n",
    "    if(ativDia[a].index(t) > 0):\n",
    "        d = ativDia[a][(ativDia[a].index(t) - 1)]\n",
    "    else:\n",
    "        d = ativDia[a][(len(ativDia[a]) - 1)]\n",
    "\n",
    "    for (a1, s) in diaAtivHora[d]:\n",
    "        if(a1 == a):\n",
    "            return s"
   ]
  },
  {
   "cell_type": "markdown",
   "metadata": {},
   "source": [
    "A na sequência, apresentamos as restrições.\n",
    "\n",
    "\\begin{equation}\n",
    "x_{\\overline{a}\\,\\overline{s}\\,\\overline{t}} \\le \\sum_{s \\in S}\\sum_{t \\in \\tilde{T}^a_{\\hat{t},\\overline{t}}} x_{ast} + \\sum_{s \\in S, s < \\overline{s}} x_{as\\overline{t}}, \\forall a \\in D, \\forall (\\overline{a},\\overline{s},\\overline{t}) \\in \\tilde{A}, \\overline{a} = a, \\hat{s} = preS(\\overline{a}), \\hat{t} = preT(\\overline{a})\n",
    "\\end{equation}\n",
    "\n",
    "No que, nesse caso, o estudo antes da próxima aula deve ser feito obrigatoriamente a partir do próximo dia que ocorreu a aula anterior."
   ]
  },
  {
   "cell_type": "code",
   "execution_count": 44,
   "metadata": {},
   "outputs": [],
   "source": [
    "for a in D:\n",
    "    for (t, s) in ativDiaHora[a]:\n",
    "        diasIntervalo = diasAtividadeIntervalo(a, preT(a, t), t)\n",
    "        tAnt = preT(a, t)\n",
    "        sAnt = preS(a, t)\n",
    "        modelo += x[a][s][t] <= (sum(x[a][s1][t1] for s1 in S for t1 in diasIntervalo)) + (sum(x[a][s1][t] for s1 in S if s1 < s)) "
   ]
  },
  {
   "cell_type": "markdown",
   "metadata": {},
   "source": [
    "#### Resolvendo o modelo"
   ]
  },
  {
   "cell_type": "code",
   "execution_count": 45,
   "metadata": {},
   "outputs": [
    {
     "data": {
      "text/plain": [
       "1"
      ]
     },
     "execution_count": 45,
     "metadata": {},
     "output_type": "execute_result"
    }
   ],
   "source": [
    "modelo.solve()"
   ]
  },
  {
   "cell_type": "markdown",
   "metadata": {},
   "source": [
    "#### Status da solução encontrada"
   ]
  },
  {
   "cell_type": "code",
   "execution_count": 46,
   "metadata": {},
   "outputs": [
    {
     "name": "stdout",
     "output_type": "stream",
     "text": [
      "Status da resolução do modelo: Optimal\n"
     ]
    }
   ],
   "source": [
    "print(\"Status da resolução do modelo:\", LpStatus[modelo.status])"
   ]
  },
  {
   "cell_type": "markdown",
   "metadata": {},
   "source": [
    "#### Total de horas de lazer"
   ]
  },
  {
   "cell_type": "code",
   "execution_count": 47,
   "metadata": {},
   "outputs": [
    {
     "name": "stdout",
     "output_type": "stream",
     "text": [
      "Horas de Lazer =  28.0\n"
     ]
    }
   ],
   "source": [
    "print(\"Horas de Lazer = \", value(modelo.objective))"
   ]
  },
  {
   "cell_type": "markdown",
   "metadata": {},
   "source": [
    "#### Gerando sua planilha de horários"
   ]
  },
  {
   "cell_type": "code",
   "execution_count": 48,
   "metadata": {},
   "outputs": [],
   "source": [
    "# Create a Pandas dataframe from some data.\n",
    "\n",
    "Horarios = { (s,t):' ' for s in S for t in T }\n",
    "Horarios['7','Seg'] = 'D-01'\n",
    "\n",
    "for a in A:\n",
    "    for s in S:\n",
    "        for t in T:\n",
    "            if(value(x[a][s][t]) >= 0.9):\n",
    "                Horarios[s,t] = a\n",
    "\n",
    "dicionarioHoras = { 'Horarios': S }\n",
    "dicionarioHoras1 = { t:[Horarios[s,t] for s in S] for t in T }\n",
    "\n",
    "z = {**dicionarioHoras, **dicionarioHoras1}\n",
    "df = pd.DataFrame(z)\n",
    "\n",
    "# Create a Pandas Excel writer using XlsxWriter as the engine.\n",
    "writer = pd.ExcelWriter('Resultado2.xlsx', engine='xlsxwriter')\n",
    "\n",
    "# Convert the dataframe to an XlsxWriter Excel object.\n",
    "df.to_excel(writer, sheet_name='Horários', index=False)\n",
    "\n",
    "# Close the Pandas Excel writer and output the Excel file.\n",
    "writer.save()"
   ]
  },
  {
   "cell_type": "markdown",
   "metadata": {},
   "source": [
    "#### Enjoy it! =)"
   ]
  },
  {
   "cell_type": "code",
   "execution_count": null,
   "metadata": {},
   "outputs": [],
   "source": []
  }
 ],
 "metadata": {
  "kernelspec": {
   "display_name": "Python 3",
   "language": "python",
   "name": "python3"
  },
  "language_info": {
   "codemirror_mode": {
    "name": "ipython",
    "version": 3
   },
   "file_extension": ".py",
   "mimetype": "text/x-python",
   "name": "python",
   "nbconvert_exporter": "python",
   "pygments_lexer": "ipython3",
   "version": "3.7.3"
  }
 },
 "nbformat": 4,
 "nbformat_minor": 2
}

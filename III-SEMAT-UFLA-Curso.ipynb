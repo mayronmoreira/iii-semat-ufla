{
 "cells": [
  {
   "cell_type": "markdown",
   "metadata": {},
   "source": [
    "# Um modelo matemático para otimizar a sua vida na universidade\n",
    "\n",
    "## Prof. Mayron César O. Moreira \n",
    "\n",
    "**Universidade Federal de Lavras (UFLA)**  \n",
    "**Departamento de Ciência da Computação**  \n",
    "**Lavras, Minas Gerais, Brasil**  \n",
    "\n",
    "*III Semana da Matemática da UFLA (III SEMAT/UFLA)*  \n",
    "*Lavras, MG, Brasil*"
   ]
  },
  {
   "cell_type": "markdown",
   "metadata": {},
   "source": [
    "## Descrição do Problema\n",
    "\n",
    "A vida acadêmica de um estudante é repleta de atividades. Disciplinas, grupos de estudo, iniciação científica, estágio, e por último (mas não menos importante), atividades que envolvam esportes e lazer. Mas como se programar para realizar tantas tarefas, mantendo uma boa qualidade de vida? Nesse curso, desenvolveremos um modelo matemático que servirá como uma boa ferramenta para auxiliar na otimização de seu tempo e de sua vida universitária!"
   ]
  },
  {
   "cell_type": "markdown",
   "metadata": {},
   "source": [
    "### Tabela de Horários\n",
    "\n",
    "Por meio de uma planilha, complete sua tabela de horários com as atividades fixas de sua semana. O arquivo se chama **\"Horarios.xlsx\"**, e está no diretório do *notebook* desse curso. Alguns exemplos: $(i)$ os horários de suas disciplinas presenciais; $(ii)$ horários de atividades esportivas ou de recreação (natação, futebol, dança de salão, etc); $(iii)$ reuniões de grupos de estudo.  \n",
    "\n",
    "Vamos carregar as suas informações através de uma biblioteca do Python denominada *Pandas*. Assim, conseguiremos preencher os parâmetros do modelo matemático. Para padronizar os dados de entrada, insira a o símbolo **D-** antes de todas as disciplinas. Exemplo: **D-GCC218**, ou **D-01**.  "
   ]
  },
  {
   "cell_type": "code",
   "execution_count": 89,
   "metadata": {},
   "outputs": [],
   "source": [
    "import pandas as pd; \n",
    "planilha1 = pd.read_excel('Horarios.xlsx', sheet_name='horario'); \n",
    "dados1 = planilha1.to_records(index=False)\n",
    "    \n",
    "planilha2 = pd.read_excel('Horarios.xlsx', sheet_name='carga')\n",
    "dados2 = planilha2.to_records(index=False)\n",
    "    \n",
    "planilha3 = pd.read_excel('Horarios.xlsx', sheet_name='dias-atividade')\n",
    "dados3 = planilha3.to_records(index=False)"
   ]
  },
  {
   "cell_type": "markdown",
   "metadata": {},
   "source": [
    "### Contexto modelado\n",
    "\n",
    "Nosso planejamento leva em conta os sete dias da semana, representados pelo conjunto $T$. Vamos considerar um conjunto de atividades $A$, divididos em um conjunto de disciplinas $D$ e um conjunto de atividades extras $E$ ($A = D \\cup E$ e $D \\cap E = \\varnothing$). Os dias correspondentes a cada atividade é determinado pelo conjunto $T_a \\subseteq T, a \\in A$. Além disso, a carga horária semanal de $a \\in A$ é dada por $w_a \\in \\mathbb{R}_+$. **Lembre-se:** a carga horária de uma disciplina $d \\in D$ corresponde às horas dentro e fora de sala de aula. Utilizamos também um conjunto de *slots* de tempo $S = \\{7, 8, ..., 22\\}$. Desejamos determinar um plano de atividades semanais tal que:  \n",
    "\n",
    "* **Restrição 1**: as atividades pré-fixadas devem ter seus horários respeitados;  \n",
    "* **Restrição 2**: cada horário (*slot*) deve ser ocupado por uma atividade (garante que não haja sobreposição de horários);  \n",
    "* **Restrição 3**: a carga horária das atividades deve ser cumprida;  \n",
    "* **Restrição 4**: os sábados à partir das 18h devem ser dedicados ao **lazer**;    \n",
    "* **Restrição 5**: de segunda à sexta, estabelecemos que hajam no máximo 2h de dedicação ao esporte por dia;  \n",
    "* **Restrição 6**: as atividades de esporte deverão ser finalizadas até às 11h, de segunda à sexta;  \n",
    "\n",
    "O objetivo de nosso modelo é obedecer todas as restrições e especificidades de nosso contexto, **maximizando** a carga horária de atividades de lazer! =)"
   ]
  },
  {
   "cell_type": "markdown",
   "metadata": {},
   "source": [
    "### Parâmatros (*inputs*)\n",
    "\n",
    "Façamos um resumo dos parâmetros necessários ao nosso modelo.  \n",
    "\n",
    "* $D$: conjunto de disciplinas;  \n",
    "* $E$: conjunto de atividades extras; \n",
    "* $A = D \\cup E$: conjunto de atividades;  \n",
    "* $\\tilde{A}$: conjunto de triplas $(\\overline{a},\\overline{t},\\overline{s})$ que correspondem a designações de atividades, hora e dia já pré-determinados;  \n",
    "* $T$: dias da semana;  \n",
    "* $S$: *slots* de tempo;  \n",
    "* $T_a$: dias em que a atividade $a \\in A$ deve ser realizada;  \n",
    "* $w_a$: carga horária da atividade $a \\in A$.  \n",
    "\n",
    "Em Python, a implementação desses dados é apresentada abaixo, utilizando as informações preenchidas pela planilha "
   ]
  },
  {
   "cell_type": "code",
   "execution_count": 90,
   "metadata": {},
   "outputs": [],
   "source": [
    "D = [x[0] for x in dados2 if 'D-' in x[0]]\n",
    "E = [x[0] for x in dados2 if 'D-' not in x[0]]\n",
    "E = E + ['Lazer'] # Acrescentando a atividade Lazer\n",
    "A = D + E\n",
    "T = [x for x in dados1[0] if x != 'Hora']\n",
    "S = [x[0] for x in dados1 if x[0] != 'Hora']\n",
    "\n",
    "# Criando um dicionário de atividade:carga horária\n",
    "w = { x[0]:x[1] for x in dados2 }\n",
    "\n",
    "# Criando a lista de dias fixos para cada atividades\n",
    "linhaDias = dados1[0]\n",
    "ativDiaHora = { a:[] for a in A } # Conjunto \\tilde{A}\n",
    "ativDia = { a:[] for a in A }\n",
    "diaAtivHora = { d:[] for d in linhaDias if d != 'Hora'}\n",
    "alimentacao = [] # Conjunto de dias e horários que iremos nos alimentar (pausa)\n",
    "for a in A:\n",
    "    for i in range(1,len(dados1)):\n",
    "        for j in range(len(dados1[i])):\n",
    "            if(a == dados1[i][j]):\n",
    "                ativDiaHora[a].append((linhaDias[j],dados1[i][0]))\n",
    "                \n",
    "                if(linhaDias[j] not in ativDia[a]):\n",
    "                    ativDia[a].append(linhaDias[j])\n",
    "                \n",
    "                diaAtivHora[linhaDias[j]].append((a,dados1[i][0]))\n",
    "                \n",
    "            elif((dados1[i][j] == 'Almoço' or dados1[i][j] == 'Janta')\n",
    "                 and ((linhaDias[j], dados1[i][0]) not in alimentacao)):\n",
    "                alimentacao.append((linhaDias[j], dados1[i][0]))\n",
    "                \n",
    "# Calculando as possibilidades de dias para cada atividade\n",
    "Ta = { a:[] for a in A }\n",
    "for x in dados3:\n",
    "    for y in x:\n",
    "        if(y in T):\n",
    "            Ta[x[0]].append(y)"
   ]
  },
  {
   "cell_type": "markdown",
   "metadata": {},
   "source": [
    "### Modelo Matemático\n",
    "\n",
    "Para modelar nosso problema matematicamente, utilizaremos a biblioteca PuLP do Python 3, declarada na sequência."
   ]
  },
  {
   "cell_type": "code",
   "execution_count": 91,
   "metadata": {},
   "outputs": [],
   "source": []
  },
  {
   "cell_type": "markdown",
   "metadata": {},
   "source": [
    "#### Variáveis de decisão\n",
    "\n",
    "Vamos definir o conjunto de variáveis binárias $x_{ast} \\in \\{0,1\\}$ igual a 1 se e somente a atividade $a \\in A$ for alocada no slot de tempo $s \\in S$, no dia $t \\in T$."
   ]
  },
  {
   "cell_type": "code",
   "execution_count": 92,
   "metadata": {},
   "outputs": [],
   "source": []
  },
  {
   "cell_type": "markdown",
   "metadata": {},
   "source": [
    "#### Modelo matemático\n",
    "\n",
    "Criando o modelo de **maximização**."
   ]
  },
  {
   "cell_type": "code",
   "execution_count": 93,
   "metadata": {},
   "outputs": [],
   "source": []
  },
  {
   "cell_type": "markdown",
   "metadata": {},
   "source": [
    "#### Função objetivo\n",
    "\n",
    "Como cada *slot* de tempo é discretizado de hora em hora, nossa função objetivo consiste em maximizar a quantidade de horas que a variável $x$ relativa ao *lazer* aparece.\n",
    "\n",
    "\\begin{equation}\n",
    "\\max \\sum_{s \\in S}\\sum_{t \\in T}x_{\\overline{a}st}\n",
    "\\end{equation}\n",
    "\n",
    "em que $\\overline{a}$ = Lazer."
   ]
  },
  {
   "cell_type": "code",
   "execution_count": 94,
   "metadata": {},
   "outputs": [],
   "source": []
  },
  {
   "cell_type": "markdown",
   "metadata": {},
   "source": [
    "#### Restrições 1: fixação de atividades definidas *a priori*\n",
    "\n",
    "Seja a tripla $(\\overline{a}, \\overline{s}, \\overline{t}) \\in \\tilde{A}$ como uma tripla de atividade, horário e dia de uma atividade fixa pertencentes a um conjunto de designações feitas *a priori*. Assim, nossa restrição pode ser escrita da seguinte forma: \n",
    "\n",
    "\\begin{equation}\n",
    "x_{\\overline{a}\\,\\overline{s}\\,\\overline{t}} = 1, \\forall (\\overline{a},\\overline{s},\\overline{t}) \\in \\tilde{A}\n",
    "\\end{equation}"
   ]
  },
  {
   "cell_type": "code",
   "execution_count": 95,
   "metadata": {},
   "outputs": [],
   "source": []
  },
  {
   "cell_type": "markdown",
   "metadata": {},
   "source": [
    "#### Restrições 2: cada *slot* de tempo deve ser ocupado por alguma atividade\n",
    "\n",
    "\\begin{equation}\n",
    "\\sum_{a \\in A} x_{ast} = 1, \\forall s \\in S, \\forall t \\in T\n",
    "\\end{equation}"
   ]
  },
  {
   "cell_type": "code",
   "execution_count": 96,
   "metadata": {},
   "outputs": [],
   "source": []
  },
  {
   "cell_type": "markdown",
   "metadata": {},
   "source": [
    "#### Restrições 3: a carga horária de todas as atividades deve ser cumprida (a exceção do 'Lazer', que deve ser maximizado)\n",
    "\n",
    "\\begin{equation}\n",
    "\\sum_{s \\in S}\\sum_{t \\in T_a} x_{ast} = w_a, \\forall a \\in A \\backslash \\{\\mbox{'Lazer'}\\}\n",
    "\\end{equation}"
   ]
  },
  {
   "cell_type": "code",
   "execution_count": 97,
   "metadata": {},
   "outputs": [],
   "source": []
  },
  {
   "cell_type": "markdown",
   "metadata": {},
   "source": [
    "#### Restrições 4: os sábados à partir das 18h devem ser dedicados ao **lazer**\n",
    "\n",
    "\\begin{equation}\n",
    "x_{\\tilde{a}s\\tilde{t}} = 1, \\forall s \\in S, s \\ge 18, \\tilde{a} = \\mbox{'Lazer'}, \\tilde{t} = \\mbox{'Sab'}\n",
    "\\end{equation}"
   ]
  },
  {
   "cell_type": "code",
   "execution_count": 98,
   "metadata": {},
   "outputs": [
    {
     "name": "stdout",
     "output_type": "stream",
     "text": [
      "18\n",
      "19\n",
      "20\n",
      "21\n",
      "22\n"
     ]
    }
   ],
   "source": []
  },
  {
   "cell_type": "markdown",
   "metadata": {},
   "source": [
    "#### Restrições 5: de segunda à sexta, estabelecemos que hajam no máximo 2h de dedicação ao esporte por dia. \n",
    "\n",
    "\\begin{equation}\n",
    "\\sum_{s \\in S}x_{\\mbox{'Esp'},s,t} \\le 2, \\forall t \\in T\\backslash\\{\\mbox{'Sab','Dom'}\\}\n",
    "\\end{equation}"
   ]
  },
  {
   "cell_type": "code",
   "execution_count": 99,
   "metadata": {},
   "outputs": [],
   "source": []
  },
  {
   "cell_type": "markdown",
   "metadata": {},
   "source": [
    "#### Restrições 6: as atividades de esporte deverão ser finalizadas até às 11h, de segunda à sexta.\n",
    "\n",
    "\\begin{equation}\n",
    "\\sum_{s \\in S, s \\ge 11}\\sum_{t \\in T}x_{\\mbox{'Esp'},s,t} = 0\n",
    "\\end{equation}"
   ]
  },
  {
   "cell_type": "code",
   "execution_count": 100,
   "metadata": {},
   "outputs": [],
   "source": []
  },
  {
   "cell_type": "markdown",
   "metadata": {},
   "source": [
    "#### Resolvendo o modelo"
   ]
  },
  {
   "cell_type": "code",
   "execution_count": 101,
   "metadata": {},
   "outputs": [
    {
     "data": {
      "text/plain": [
       "1"
      ]
     },
     "execution_count": 101,
     "metadata": {},
     "output_type": "execute_result"
    }
   ],
   "source": [
    "modelo.solve()"
   ]
  },
  {
   "cell_type": "markdown",
   "metadata": {},
   "source": [
    "#### Status da solução encontrada"
   ]
  },
  {
   "cell_type": "code",
   "execution_count": 102,
   "metadata": {},
   "outputs": [
    {
     "name": "stdout",
     "output_type": "stream",
     "text": [
      "Status da resolução do modelo: Optimal\n"
     ]
    }
   ],
   "source": [
    "print(\"Status da resolução do modelo:\", LpStatus[modelo.status])"
   ]
  },
  {
   "cell_type": "markdown",
   "metadata": {},
   "source": [
    "#### Total de horas de lazer"
   ]
  },
  {
   "cell_type": "code",
   "execution_count": 103,
   "metadata": {},
   "outputs": [
    {
     "name": "stdout",
     "output_type": "stream",
     "text": [
      "Horas de Lazer =  28.0\n"
     ]
    }
   ],
   "source": [
    "print(\"Horas de Lazer = \", value(modelo.objective))"
   ]
  },
  {
   "cell_type": "markdown",
   "metadata": {},
   "source": [
    "#### Gerando sua planilha de horários"
   ]
  },
  {
   "cell_type": "code",
   "execution_count": 104,
   "metadata": {},
   "outputs": [],
   "source": [
    "# Create a Pandas dataframe from some data.\n",
    "\n",
    "Horarios = { (s,t):' ' for s in S for t in T }\n",
    "Horarios['7','Seg'] = 'D-01'\n",
    "\n",
    "for a in A:\n",
    "    for s in S:\n",
    "        for t in T:\n",
    "            if(value(x[a][s][t]) >= 0.9):\n",
    "                Horarios[s,t] = a\n",
    "\n",
    "dicionarioHoras = { 'Horarios': S }\n",
    "dicionarioHoras1 = { t:[Horarios[s,t] for s in S] for t in T }\n",
    "\n",
    "z = {**dicionarioHoras, **dicionarioHoras1}\n",
    "df = pd.DataFrame(z)\n",
    "\n",
    "# Create a Pandas Excel writer using XlsxWriter as the engine.\n",
    "writer = pd.ExcelWriter('Resultado1.xlsx', engine='xlsxwriter')\n",
    "\n",
    "# Convert the dataframe to an XlsxWriter Excel object.\n",
    "df.to_excel(writer, sheet_name='Horários', index=False)\n",
    "\n",
    "# Close the Pandas Excel writer and output the Excel file.\n",
    "writer.save()"
   ]
  },
  {
   "cell_type": "markdown",
   "metadata": {},
   "source": [
    "### Novas restrições\n",
    "\n",
    "Vamos aprimorar a solução desse modelo matemático. Consideremos as seguintes restrições adicionais:\n",
    "\n",
    "* **Restrição 7**: as horas de estudo devem ser contínuas (sequenciais);  \n",
    "* **Restrição 8**: os horários de Iniciação Científica devem ter períodos de no mínimo 2h contínuas;  \n",
    "* **Restrição 9**: atividades esportivas não devem aparecer entre o estudo de disciplinas e entre IC;  \n",
    "* **Restrição 10**: ao menos 2h fora de sala de aula deve ser gasta antes de cada aula presencial da disciplina $d \\in D$."
   ]
  },
  {
   "cell_type": "markdown",
   "metadata": {},
   "source": [
    "#### Restrições 7: as horas de estudo devem ser contínuas (sequenciais)\n"
   ]
  },
  {
   "cell_type": "code",
   "execution_count": 40,
   "metadata": {},
   "outputs": [],
   "source": []
  },
  {
   "cell_type": "markdown",
   "metadata": {},
   "source": [
    "#### Restrições 8: os horários de Iniciação Científica devem ter períodos de no mínimo 2h contínuas\n"
   ]
  },
  {
   "cell_type": "code",
   "execution_count": 41,
   "metadata": {},
   "outputs": [],
   "source": []
  },
  {
   "cell_type": "markdown",
   "metadata": {},
   "source": [
    "#### Restrições 9: atividades esportivas não devem aparecer entre o estudo de disciplinas e entre IC.  \n"
   ]
  },
  {
   "cell_type": "code",
   "execution_count": 42,
   "metadata": {},
   "outputs": [],
   "source": []
  },
  {
   "cell_type": "markdown",
   "metadata": {},
   "source": [
    "#### Restrições 10: ao menos 1h fora de sala de aula deve ser gasta antes de cada aula presencial da disciplina $d \\in D$. \n",
    "\n",
    "Seja $\\tilde{T}^a_{t_1,t_2}$ o conjunto de dias entre os dias $t_1$ e $t_2$ que atividade $a \\in A$ pode ocorrer. Considere $preT(\\overline{a})$ como o dia anterior ao que $\\overline{a}$ é realizado, e $preS(\\overline{a})$ como a hora que executamos a atividade $a$ em um dia anterior ao que $\\overline{a}$ ocorre. Implementamos a definição desses conjuntos abaixo."
   ]
  },
  {
   "cell_type": "code",
   "execution_count": 43,
   "metadata": {},
   "outputs": [],
   "source": [
    "# Definição de $\\tilde{T}^a_{t_1,t_2}$\n",
    "def diasAtividadeIntervalo(a, t1, t2):\n",
    "    i = T.index(t1)\n",
    "    j = T.index(t2)\n",
    "    Dias = []\n",
    "    if(i <= j):\n",
    "        Dias = T[(i+1):j]\n",
    "    else:\n",
    "        Dias = [t for t in T if not (j <= T.index(t) and T.index(t) <= i)]\n",
    "\n",
    "    return [t for t in Dias if t in Ta[a]]\n",
    "    \n",
    "# Define o dia em que a atividade 'a' é executada antes do dia t\n",
    "def preT(a, t):\n",
    "    # Dia anterior a t\n",
    "    if(ativDia[a].index(t) > 0):\n",
    "        return ativDia[a][(ativDia[a].index(t) - 1)]\n",
    "    else:\n",
    "        return ativDia[a][(len(ativDia[a]) - 1)]\n",
    "    \n",
    "# Define o slot em que a atividade 'a' é executada antes do dia t\n",
    "def preS(a, t):\n",
    "    # Dia anterior a t\n",
    "    if(ativDia[a].index(t) > 0):\n",
    "        d = ativDia[a][(ativDia[a].index(t) - 1)]\n",
    "    else:\n",
    "        d = ativDia[a][(len(ativDia[a]) - 1)]\n",
    "\n",
    "    for (a1, s) in diaAtivHora[d]:\n",
    "        if(a1 == a):\n",
    "            return s"
   ]
  },
  {
   "cell_type": "markdown",
   "metadata": {},
   "source": []
  },
  {
   "cell_type": "code",
   "execution_count": 44,
   "metadata": {},
   "outputs": [],
   "source": []
  },
  {
   "cell_type": "markdown",
   "metadata": {},
   "source": [
    "#### Resolvendo o modelo"
   ]
  },
  {
   "cell_type": "code",
   "execution_count": 45,
   "metadata": {},
   "outputs": [
    {
     "data": {
      "text/plain": [
       "1"
      ]
     },
     "execution_count": 45,
     "metadata": {},
     "output_type": "execute_result"
    }
   ],
   "source": [
    "modelo.solve()"
   ]
  },
  {
   "cell_type": "markdown",
   "metadata": {},
   "source": [
    "#### Status da solução encontrada"
   ]
  },
  {
   "cell_type": "code",
   "execution_count": 46,
   "metadata": {},
   "outputs": [
    {
     "name": "stdout",
     "output_type": "stream",
     "text": [
      "Status da resolução do modelo: Optimal\n"
     ]
    }
   ],
   "source": [
    "print(\"Status da resolução do modelo:\", LpStatus[modelo.status])"
   ]
  },
  {
   "cell_type": "markdown",
   "metadata": {},
   "source": [
    "#### Total de horas de lazer"
   ]
  },
  {
   "cell_type": "code",
   "execution_count": 47,
   "metadata": {},
   "outputs": [
    {
     "name": "stdout",
     "output_type": "stream",
     "text": [
      "Horas de Lazer =  28.0\n"
     ]
    }
   ],
   "source": [
    "print(\"Horas de Lazer = \", value(modelo.objective))"
   ]
  },
  {
   "cell_type": "markdown",
   "metadata": {},
   "source": [
    "#### Gerando sua planilha de horários"
   ]
  },
  {
   "cell_type": "code",
   "execution_count": 48,
   "metadata": {},
   "outputs": [],
   "source": [
    "# Create a Pandas dataframe from some data.\n",
    "\n",
    "Horarios = { (s,t):' ' for s in S for t in T }\n",
    "Horarios['7','Seg'] = 'D-01'\n",
    "\n",
    "for a in A:\n",
    "    for s in S:\n",
    "        for t in T:\n",
    "            if(value(x[a][s][t]) >= 0.9):\n",
    "                Horarios[s,t] = a\n",
    "\n",
    "dicionarioHoras = { 'Horarios': S }\n",
    "dicionarioHoras1 = { t:[Horarios[s,t] for s in S] for t in T }\n",
    "\n",
    "z = {**dicionarioHoras, **dicionarioHoras1}\n",
    "df = pd.DataFrame(z)\n",
    "\n",
    "# Create a Pandas Excel writer using XlsxWriter as the engine.\n",
    "writer = pd.ExcelWriter('Resultado2.xlsx', engine='xlsxwriter')\n",
    "\n",
    "# Convert the dataframe to an XlsxWriter Excel object.\n",
    "df.to_excel(writer, sheet_name='Horários', index=False)\n",
    "\n",
    "# Close the Pandas Excel writer and output the Excel file.\n",
    "writer.save()"
   ]
  },
  {
   "cell_type": "markdown",
   "metadata": {},
   "source": [
    "#### Enjoy it! =)"
   ]
  },
  {
   "cell_type": "code",
   "execution_count": null,
   "metadata": {},
   "outputs": [],
   "source": []
  }
 ],
 "metadata": {
  "kernelspec": {
   "display_name": "Python 3",
   "language": "python",
   "name": "python3"
  },
  "language_info": {
   "codemirror_mode": {
    "name": "ipython",
    "version": 3
   },
   "file_extension": ".py",
   "mimetype": "text/x-python",
   "name": "python",
   "nbconvert_exporter": "python",
   "pygments_lexer": "ipython3",
   "version": "3.7.3"
  }
 },
 "nbformat": 4,
 "nbformat_minor": 2
}
